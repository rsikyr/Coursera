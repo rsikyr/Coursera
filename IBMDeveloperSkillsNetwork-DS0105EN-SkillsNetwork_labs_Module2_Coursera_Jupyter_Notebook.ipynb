{
  "metadata": {
    "kernelspec": {
      "display_name": "Python",
      "language": "python",
      "name": "conda-env-python-py"
    },
    "language_info": {
      "name": ""
    }
  },
  "nbformat_minor": 4,
  "nbformat": 4,
  "cells": [
    {
      "cell_type": "markdown",
      "source": "<center>\n    <img src=\"https://cf-courses-data.s3.us.cloud-object-storage.appdomain.cloud/IBMDeveloperSkillsNetwork-DS0105EN-SkillsNetwork/labs/Module2/images/SN_web_lightmode.png\" width=\"300\" alt=\"cognitiveclass.ai logo\">\n</center>\n",
      "metadata": {}
    },
    {
      "cell_type": "markdown",
      "source": "#### Add your code below following the instructions given in the course\n",
      "metadata": {}
    },
    {
      "cell_type": "markdown",
      "source": "<h1>My Jupyter Notebook on IBM Watson Studio</h1>",
      "metadata": {}
    },
    {
      "cell_type": "markdown",
      "source": "<b>Radek Sikyr</b></br>\nDigital Marketing Specialist, future Data Scientist",
      "metadata": {}
    },
    {
      "cell_type": "markdown",
      "source": "<i>I am interested in Data Science, because I always liked the analytic part of my job. I would like to extend the knowledge and Data Science seems to be the perfect way how to do it.</i>",
      "metadata": {}
    },
    {
      "cell_type": "markdown",
      "source": "<h3>The code below will do some basic math</h3>",
      "metadata": {}
    },
    {
      "cell_type": "code",
      "source": "56*83-26+1",
      "metadata": {
        "trusted": true
      },
      "execution_count": 2,
      "outputs": [
        {
          "execution_count": 2,
          "output_type": "execute_result",
          "data": {
            "text/plain": "4623"
          },
          "metadata": {}
        }
      ]
    },
    {
      "cell_type": "markdown",
      "source": "<ul>\n    <li>Hi there</li>\n</ul>\n\nLet's mix some styles here\n---------------------------\n\n<ol>\n    <li>Nothing to see?</li>\n</ol>\n\n<blockquote>I don´t like this mess.</blockquote>\n\n\n        ",
      "metadata": {}
    },
    {
      "cell_type": "code",
      "source": "",
      "metadata": {},
      "execution_count": null,
      "outputs": []
    }
  ]
}
